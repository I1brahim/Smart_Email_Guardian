{
 "cells": [
  {
   "cell_type": "code",
   "execution_count": null,
   "id": "8e4dc975",
   "metadata": {},
   "outputs": [],
   "source": [
    "from datasets import load_dataset\n",
    "\n",
    "\n",
    "ds = load_dataset(\"zefang-liu/phishing-email-dataset\")\n",
    "df = ds[\"train\"].to_pandas()\n",
    "\n",
    "\n"
   ]
  },
  {
   "cell_type": "code",
   "execution_count": 17,
   "id": "f0e8201b",
   "metadata": {},
   "outputs": [
    {
     "name": "stdout",
     "output_type": "stream",
     "text": [
      "Index(['Unnamed: 0', 'Email Text', 'Email Type'], dtype='object')\n"
     ]
    }
   ],
   "source": [
    "df = ds[\"train\"].to_pandas()\n",
    "print(df.columns)\n"
   ]
  },
  {
   "cell_type": "code",
   "execution_count": null,
   "id": "74f906d7",
   "metadata": {},
   "outputs": [
    {
     "name": "stdout",
     "output_type": "stream",
     "text": [
      "label\n",
      "safe email        11322\n",
      "phishing email     7328\n",
      "Name: count, dtype: int64\n"
     ]
    }
   ],
   "source": [
    "df = ds[\"train\"].to_pandas()\n",
    "\n",
    "df = df.rename(columns={\"Email Text\": \"email\", \"Email Type\": \"label\"})\n",
    "\n",
    "df = df.drop(columns=[\"Unnamed: 0\"], errors=\"ignore\")\n",
    "\n",
    "df[\"label\"] = df[\"label\"].str.lower().str.strip()\n",
    "\n",
    "print(df[\"label\"].value_counts())\n"
   ]
  },
  {
   "cell_type": "code",
   "execution_count": null,
   "id": "1fd04777",
   "metadata": {},
   "outputs": [],
   "source": [
    "df = df.dropna(subset=[\"email\"])\n",
    "df = df[df[\"email\"].str.strip() != \"\"]\n",
    "\n",
    "df = df.reset_index(drop=True)\n"
   ]
  },
  {
   "cell_type": "code",
   "execution_count": null,
   "id": "743dffc9",
   "metadata": {},
   "outputs": [
    {
     "name": "stdout",
     "output_type": "stream",
     "text": [
      "                precision    recall  f1-score   support\n",
      "\n",
      "phishing email       0.94      0.97      0.95      1477\n",
      "    safe email       0.98      0.96      0.97      2250\n",
      "\n",
      "      accuracy                           0.96      3727\n",
      "     macro avg       0.96      0.96      0.96      3727\n",
      "  weighted avg       0.96      0.96      0.96      3727\n",
      "\n"
     ]
    },
    {
     "data": {
      "text/plain": [
       "['/home/ibrahim/Desktop/email_guardian/ai/phishing_vectorizer.pkl']"
      ]
     },
     "execution_count": 21,
     "metadata": {},
     "output_type": "execute_result"
    }
   ],
   "source": [
    "from sklearn.model_selection import train_test_split\n",
    "from sklearn.feature_extraction.text import TfidfVectorizer\n",
    "from sklearn.linear_model import LogisticRegression\n",
    "from sklearn.metrics import classification_report\n",
    "import joblib\n",
    "\n",
    "X_train, X_test, y_train, y_test = train_test_split(df[\"email\"], df[\"label\"], test_size=0.2, random_state=42)\n",
    "\n",
    "vectorizer = TfidfVectorizer(max_features=5000)\n",
    "X_train_vec = vectorizer.fit_transform(X_train)\n",
    "X_test_vec = vectorizer.transform(X_test)\n",
    "\n",
    "model = LogisticRegression()\n",
    "model.fit(X_train_vec, y_train)\n",
    "\n",
    "y_pred = model.predict(X_test_vec)\n",
    "print(classification_report(y_test, y_pred))\n",
    "\n",
    "joblib.dump(model, \"/home/ibrahim/Desktop/email_guardian/ai/phishing_model.pkl\")\n",
    "joblib.dump(vectorizer, \"/home/ibrahim/Desktop/email_guardian/ai/phishing_vectorizer.pkl\")\n"
   ]
  }
 ],
 "metadata": {
  "kernelspec": {
   "display_name": "Python 3",
   "language": "python",
   "name": "python3"
  },
  "language_info": {
   "codemirror_mode": {
    "name": "ipython",
    "version": 3
   },
   "file_extension": ".py",
   "mimetype": "text/x-python",
   "name": "python",
   "nbconvert_exporter": "python",
   "pygments_lexer": "ipython3",
   "version": "3.10.12"
  }
 },
 "nbformat": 4,
 "nbformat_minor": 5
}
